{
 "cells": [
  {
   "cell_type": "markdown",
   "id": "8f328275",
   "metadata": {},
   "source": [
    "#### Feature Selection - Dropping Constant features\n",
    "\n",
    "We will be dropping or removing the features which have constant features which are actually not important for solving the problem statement"
   ]
  },
  {
   "cell_type": "code",
   "execution_count": 1,
   "id": "a26b39d4",
   "metadata": {},
   "outputs": [
    {
     "name": "stdout",
     "output_type": "stream",
     "text": [
      "dict_keys(['A', 'B', 'C', 'D', 'E'])\n"
     ]
    }
   ],
   "source": [
    "import pandas as pd\n",
    "dict_ = {\"A\": [1, 5, 9, 4, 7, 8], \"B\": [0, 0, 0, 0, 0, 0], \"C\": [1, 1, 1, 1, 1, 1], \"D\": [5, 9, 3, 0, 2, 1], \"E\": [5, 0, 8, 4, 2, 4]}\n",
    "\n",
    "print(dict_.keys())"
   ]
  },
  {
   "cell_type": "code",
   "execution_count": 2,
   "id": "d6847302",
   "metadata": {},
   "outputs": [
    {
     "name": "stdout",
     "output_type": "stream",
     "text": [
      "dict_items([('A', [1, 5, 9, 4, 7, 8]), ('B', [0, 0, 0, 0, 0, 0]), ('C', [1, 1, 1, 1, 1, 1]), ('D', [5, 9, 3, 0, 2, 1]), ('E', [5, 0, 8, 4, 2, 4])])\n"
     ]
    }
   ],
   "source": [
    "print(dict_.items())"
   ]
  },
  {
   "cell_type": "code",
   "execution_count": 3,
   "id": "a532ba2b",
   "metadata": {},
   "outputs": [
    {
     "data": {
      "text/html": [
       "<div>\n",
       "<style scoped>\n",
       "    .dataframe tbody tr th:only-of-type {\n",
       "        vertical-align: middle;\n",
       "    }\n",
       "\n",
       "    .dataframe tbody tr th {\n",
       "        vertical-align: top;\n",
       "    }\n",
       "\n",
       "    .dataframe thead th {\n",
       "        text-align: right;\n",
       "    }\n",
       "</style>\n",
       "<table border=\"1\" class=\"dataframe\">\n",
       "  <thead>\n",
       "    <tr style=\"text-align: right;\">\n",
       "      <th></th>\n",
       "      <th>A</th>\n",
       "      <th>B</th>\n",
       "      <th>C</th>\n",
       "      <th>D</th>\n",
       "      <th>E</th>\n",
       "    </tr>\n",
       "  </thead>\n",
       "  <tbody>\n",
       "    <tr>\n",
       "      <th>0</th>\n",
       "      <td>1</td>\n",
       "      <td>0</td>\n",
       "      <td>1</td>\n",
       "      <td>5</td>\n",
       "      <td>5</td>\n",
       "    </tr>\n",
       "    <tr>\n",
       "      <th>1</th>\n",
       "      <td>5</td>\n",
       "      <td>0</td>\n",
       "      <td>1</td>\n",
       "      <td>9</td>\n",
       "      <td>0</td>\n",
       "    </tr>\n",
       "    <tr>\n",
       "      <th>2</th>\n",
       "      <td>9</td>\n",
       "      <td>0</td>\n",
       "      <td>1</td>\n",
       "      <td>3</td>\n",
       "      <td>8</td>\n",
       "    </tr>\n",
       "    <tr>\n",
       "      <th>3</th>\n",
       "      <td>4</td>\n",
       "      <td>0</td>\n",
       "      <td>1</td>\n",
       "      <td>0</td>\n",
       "      <td>4</td>\n",
       "    </tr>\n",
       "    <tr>\n",
       "      <th>4</th>\n",
       "      <td>7</td>\n",
       "      <td>0</td>\n",
       "      <td>1</td>\n",
       "      <td>2</td>\n",
       "      <td>2</td>\n",
       "    </tr>\n",
       "  </tbody>\n",
       "</table>\n",
       "</div>"
      ],
      "text/plain": [
       "   A  B  C  D  E\n",
       "0  1  0  1  5  5\n",
       "1  5  0  1  9  0\n",
       "2  9  0  1  3  8\n",
       "3  4  0  1  0  4\n",
       "4  7  0  1  2  2"
      ]
     },
     "execution_count": 3,
     "metadata": {},
     "output_type": "execute_result"
    }
   ],
   "source": [
    "data = pd.DataFrame(dict_)\n",
    "\n",
    "data.head()"
   ]
  },
  {
   "cell_type": "markdown",
   "id": "2842031c",
   "metadata": {},
   "source": [
    "#### Variance Threshold\n",
    "\n",
    "Feature selector that removes all low-variance features.\n",
    "\n",
    "This feature selection algorithm looks only at the features (X), not the desired outputs (y), and can thus be used for unsupervised learning."
   ]
  },
  {
   "cell_type": "code",
   "execution_count": 4,
   "id": "f8e61cf9",
   "metadata": {},
   "outputs": [],
   "source": [
    "from sklearn.feature_selection import VarianceThreshold"
   ]
  },
  {
   "cell_type": "code",
   "execution_count": 5,
   "id": "80165e44",
   "metadata": {},
   "outputs": [
    {
     "data": {
      "text/plain": [
       "VarianceThreshold()"
      ]
     },
     "execution_count": 5,
     "metadata": {},
     "output_type": "execute_result"
    }
   ],
   "source": [
    "var_thres = VarianceThreshold(threshold=0.0)\n",
    "\n",
    "var_thres.fit(data)"
   ]
  },
  {
   "cell_type": "code",
   "execution_count": 6,
   "id": "bb36445c",
   "metadata": {},
   "outputs": [
    {
     "data": {
      "text/plain": [
       "array([ True, False, False,  True,  True])"
      ]
     },
     "execution_count": 6,
     "metadata": {},
     "output_type": "execute_result"
    }
   ],
   "source": [
    "#The get_support helps us look in the dataframe and check for the constant columns\n",
    "\n",
    "var_thres.get_support()"
   ]
  },
  {
   "cell_type": "code",
   "execution_count": 7,
   "id": "5622e418",
   "metadata": {},
   "outputs": [],
   "source": [
    "constant_columns = [column for column in data.columns if column not in data.columns[var_thres.get_support()]]"
   ]
  },
  {
   "cell_type": "code",
   "execution_count": 8,
   "id": "ccd0ead5",
   "metadata": {},
   "outputs": [
    {
     "name": "stdout",
     "output_type": "stream",
     "text": [
      "B\n",
      "C\n"
     ]
    }
   ],
   "source": [
    "for feature in constant_columns:\n",
    "    print(feature)"
   ]
  },
  {
   "cell_type": "code",
   "execution_count": 9,
   "id": "b93fd2a8",
   "metadata": {},
   "outputs": [],
   "source": [
    "data.drop(constant_columns, axis=1, inplace=True)"
   ]
  },
  {
   "cell_type": "code",
   "execution_count": 10,
   "id": "b9a04ff2",
   "metadata": {},
   "outputs": [
    {
     "data": {
      "text/html": [
       "<div>\n",
       "<style scoped>\n",
       "    .dataframe tbody tr th:only-of-type {\n",
       "        vertical-align: middle;\n",
       "    }\n",
       "\n",
       "    .dataframe tbody tr th {\n",
       "        vertical-align: top;\n",
       "    }\n",
       "\n",
       "    .dataframe thead th {\n",
       "        text-align: right;\n",
       "    }\n",
       "</style>\n",
       "<table border=\"1\" class=\"dataframe\">\n",
       "  <thead>\n",
       "    <tr style=\"text-align: right;\">\n",
       "      <th></th>\n",
       "      <th>A</th>\n",
       "      <th>D</th>\n",
       "      <th>E</th>\n",
       "    </tr>\n",
       "  </thead>\n",
       "  <tbody>\n",
       "    <tr>\n",
       "      <th>0</th>\n",
       "      <td>1</td>\n",
       "      <td>5</td>\n",
       "      <td>5</td>\n",
       "    </tr>\n",
       "    <tr>\n",
       "      <th>1</th>\n",
       "      <td>5</td>\n",
       "      <td>9</td>\n",
       "      <td>0</td>\n",
       "    </tr>\n",
       "    <tr>\n",
       "      <th>2</th>\n",
       "      <td>9</td>\n",
       "      <td>3</td>\n",
       "      <td>8</td>\n",
       "    </tr>\n",
       "    <tr>\n",
       "      <th>3</th>\n",
       "      <td>4</td>\n",
       "      <td>0</td>\n",
       "      <td>4</td>\n",
       "    </tr>\n",
       "    <tr>\n",
       "      <th>4</th>\n",
       "      <td>7</td>\n",
       "      <td>2</td>\n",
       "      <td>2</td>\n",
       "    </tr>\n",
       "  </tbody>\n",
       "</table>\n",
       "</div>"
      ],
      "text/plain": [
       "   A  D  E\n",
       "0  1  5  5\n",
       "1  5  9  0\n",
       "2  9  3  8\n",
       "3  4  0  4\n",
       "4  7  2  2"
      ]
     },
     "execution_count": 10,
     "metadata": {},
     "output_type": "execute_result"
    }
   ],
   "source": [
    "data.head()"
   ]
  },
  {
   "cell_type": "markdown",
   "id": "6b499cbb",
   "metadata": {},
   "source": [
    "#### Let's use a bigger dataset\n",
    "\n",
    "https://www.kaggle.com/competitions/santander-customer-satisfaction/data"
   ]
  },
  {
   "cell_type": "code",
   "execution_count": 13,
   "id": "426fd901",
   "metadata": {},
   "outputs": [
    {
     "data": {
      "text/html": [
       "<div>\n",
       "<style scoped>\n",
       "    .dataframe tbody tr th:only-of-type {\n",
       "        vertical-align: middle;\n",
       "    }\n",
       "\n",
       "    .dataframe tbody tr th {\n",
       "        vertical-align: top;\n",
       "    }\n",
       "\n",
       "    .dataframe thead th {\n",
       "        text-align: right;\n",
       "    }\n",
       "</style>\n",
       "<table border=\"1\" class=\"dataframe\">\n",
       "  <thead>\n",
       "    <tr style=\"text-align: right;\">\n",
       "      <th></th>\n",
       "      <th>ID</th>\n",
       "      <th>var3</th>\n",
       "      <th>var15</th>\n",
       "      <th>imp_ent_var16_ult1</th>\n",
       "      <th>imp_op_var39_comer_ult1</th>\n",
       "      <th>imp_op_var39_comer_ult3</th>\n",
       "      <th>imp_op_var40_comer_ult1</th>\n",
       "      <th>imp_op_var40_comer_ult3</th>\n",
       "      <th>imp_op_var40_efect_ult1</th>\n",
       "      <th>imp_op_var40_efect_ult3</th>\n",
       "      <th>...</th>\n",
       "      <th>saldo_medio_var33_hace2</th>\n",
       "      <th>saldo_medio_var33_hace3</th>\n",
       "      <th>saldo_medio_var33_ult1</th>\n",
       "      <th>saldo_medio_var33_ult3</th>\n",
       "      <th>saldo_medio_var44_hace2</th>\n",
       "      <th>saldo_medio_var44_hace3</th>\n",
       "      <th>saldo_medio_var44_ult1</th>\n",
       "      <th>saldo_medio_var44_ult3</th>\n",
       "      <th>var38</th>\n",
       "      <th>TARGET</th>\n",
       "    </tr>\n",
       "  </thead>\n",
       "  <tbody>\n",
       "    <tr>\n",
       "      <th>0</th>\n",
       "      <td>1</td>\n",
       "      <td>2</td>\n",
       "      <td>23</td>\n",
       "      <td>0.0</td>\n",
       "      <td>0.0</td>\n",
       "      <td>0.0</td>\n",
       "      <td>0.0</td>\n",
       "      <td>0.0</td>\n",
       "      <td>0</td>\n",
       "      <td>0</td>\n",
       "      <td>...</td>\n",
       "      <td>0.0</td>\n",
       "      <td>0.0</td>\n",
       "      <td>0.0</td>\n",
       "      <td>0.0</td>\n",
       "      <td>0.0</td>\n",
       "      <td>0.0</td>\n",
       "      <td>0.0</td>\n",
       "      <td>0.0</td>\n",
       "      <td>39205.170000</td>\n",
       "      <td>0</td>\n",
       "    </tr>\n",
       "    <tr>\n",
       "      <th>1</th>\n",
       "      <td>3</td>\n",
       "      <td>2</td>\n",
       "      <td>34</td>\n",
       "      <td>0.0</td>\n",
       "      <td>0.0</td>\n",
       "      <td>0.0</td>\n",
       "      <td>0.0</td>\n",
       "      <td>0.0</td>\n",
       "      <td>0</td>\n",
       "      <td>0</td>\n",
       "      <td>...</td>\n",
       "      <td>0.0</td>\n",
       "      <td>0.0</td>\n",
       "      <td>0.0</td>\n",
       "      <td>0.0</td>\n",
       "      <td>0.0</td>\n",
       "      <td>0.0</td>\n",
       "      <td>0.0</td>\n",
       "      <td>0.0</td>\n",
       "      <td>49278.030000</td>\n",
       "      <td>0</td>\n",
       "    </tr>\n",
       "    <tr>\n",
       "      <th>2</th>\n",
       "      <td>4</td>\n",
       "      <td>2</td>\n",
       "      <td>23</td>\n",
       "      <td>0.0</td>\n",
       "      <td>0.0</td>\n",
       "      <td>0.0</td>\n",
       "      <td>0.0</td>\n",
       "      <td>0.0</td>\n",
       "      <td>0</td>\n",
       "      <td>0</td>\n",
       "      <td>...</td>\n",
       "      <td>0.0</td>\n",
       "      <td>0.0</td>\n",
       "      <td>0.0</td>\n",
       "      <td>0.0</td>\n",
       "      <td>0.0</td>\n",
       "      <td>0.0</td>\n",
       "      <td>0.0</td>\n",
       "      <td>0.0</td>\n",
       "      <td>67333.770000</td>\n",
       "      <td>0</td>\n",
       "    </tr>\n",
       "    <tr>\n",
       "      <th>3</th>\n",
       "      <td>8</td>\n",
       "      <td>2</td>\n",
       "      <td>37</td>\n",
       "      <td>0.0</td>\n",
       "      <td>195.0</td>\n",
       "      <td>195.0</td>\n",
       "      <td>0.0</td>\n",
       "      <td>0.0</td>\n",
       "      <td>0</td>\n",
       "      <td>0</td>\n",
       "      <td>...</td>\n",
       "      <td>0.0</td>\n",
       "      <td>0.0</td>\n",
       "      <td>0.0</td>\n",
       "      <td>0.0</td>\n",
       "      <td>0.0</td>\n",
       "      <td>0.0</td>\n",
       "      <td>0.0</td>\n",
       "      <td>0.0</td>\n",
       "      <td>64007.970000</td>\n",
       "      <td>0</td>\n",
       "    </tr>\n",
       "    <tr>\n",
       "      <th>4</th>\n",
       "      <td>10</td>\n",
       "      <td>2</td>\n",
       "      <td>39</td>\n",
       "      <td>0.0</td>\n",
       "      <td>0.0</td>\n",
       "      <td>0.0</td>\n",
       "      <td>0.0</td>\n",
       "      <td>0.0</td>\n",
       "      <td>0</td>\n",
       "      <td>0</td>\n",
       "      <td>...</td>\n",
       "      <td>0.0</td>\n",
       "      <td>0.0</td>\n",
       "      <td>0.0</td>\n",
       "      <td>0.0</td>\n",
       "      <td>0.0</td>\n",
       "      <td>0.0</td>\n",
       "      <td>0.0</td>\n",
       "      <td>0.0</td>\n",
       "      <td>117310.979016</td>\n",
       "      <td>0</td>\n",
       "    </tr>\n",
       "  </tbody>\n",
       "</table>\n",
       "<p>5 rows × 371 columns</p>\n",
       "</div>"
      ],
      "text/plain": [
       "   ID  var3  var15  imp_ent_var16_ult1  imp_op_var39_comer_ult1  \\\n",
       "0   1     2     23                 0.0                      0.0   \n",
       "1   3     2     34                 0.0                      0.0   \n",
       "2   4     2     23                 0.0                      0.0   \n",
       "3   8     2     37                 0.0                    195.0   \n",
       "4  10     2     39                 0.0                      0.0   \n",
       "\n",
       "   imp_op_var39_comer_ult3  imp_op_var40_comer_ult1  imp_op_var40_comer_ult3  \\\n",
       "0                      0.0                      0.0                      0.0   \n",
       "1                      0.0                      0.0                      0.0   \n",
       "2                      0.0                      0.0                      0.0   \n",
       "3                    195.0                      0.0                      0.0   \n",
       "4                      0.0                      0.0                      0.0   \n",
       "\n",
       "   imp_op_var40_efect_ult1  imp_op_var40_efect_ult3  ...  \\\n",
       "0                        0                        0  ...   \n",
       "1                        0                        0  ...   \n",
       "2                        0                        0  ...   \n",
       "3                        0                        0  ...   \n",
       "4                        0                        0  ...   \n",
       "\n",
       "   saldo_medio_var33_hace2  saldo_medio_var33_hace3  saldo_medio_var33_ult1  \\\n",
       "0                      0.0                      0.0                     0.0   \n",
       "1                      0.0                      0.0                     0.0   \n",
       "2                      0.0                      0.0                     0.0   \n",
       "3                      0.0                      0.0                     0.0   \n",
       "4                      0.0                      0.0                     0.0   \n",
       "\n",
       "   saldo_medio_var33_ult3  saldo_medio_var44_hace2  saldo_medio_var44_hace3  \\\n",
       "0                     0.0                      0.0                      0.0   \n",
       "1                     0.0                      0.0                      0.0   \n",
       "2                     0.0                      0.0                      0.0   \n",
       "3                     0.0                      0.0                      0.0   \n",
       "4                     0.0                      0.0                      0.0   \n",
       "\n",
       "   saldo_medio_var44_ult1  saldo_medio_var44_ult3          var38  TARGET  \n",
       "0                     0.0                     0.0   39205.170000       0  \n",
       "1                     0.0                     0.0   49278.030000       0  \n",
       "2                     0.0                     0.0   67333.770000       0  \n",
       "3                     0.0                     0.0   64007.970000       0  \n",
       "4                     0.0                     0.0  117310.979016       0  \n",
       "\n",
       "[5 rows x 371 columns]"
      ]
     },
     "execution_count": 13,
     "metadata": {},
     "output_type": "execute_result"
    }
   ],
   "source": [
    "df = pd.read_csv(\"train.csv\", nrows=10000)\n",
    "\n",
    "df.head()"
   ]
  },
  {
   "cell_type": "code",
   "execution_count": 14,
   "id": "aad7a6ad",
   "metadata": {},
   "outputs": [],
   "source": []
  },
  {
   "cell_type": "code",
   "execution_count": 18,
   "id": "fcc79ceb",
   "metadata": {},
   "outputs": [],
   "source": [
    "X = df.drop(\"TARGET\", axis=1)\n",
    "y = df[\"TARGET\"]"
   ]
  },
  {
   "cell_type": "code",
   "execution_count": 19,
   "id": "a8fd40fa",
   "metadata": {},
   "outputs": [
    {
     "data": {
      "text/html": [
       "<div>\n",
       "<style scoped>\n",
       "    .dataframe tbody tr th:only-of-type {\n",
       "        vertical-align: middle;\n",
       "    }\n",
       "\n",
       "    .dataframe tbody tr th {\n",
       "        vertical-align: top;\n",
       "    }\n",
       "\n",
       "    .dataframe thead th {\n",
       "        text-align: right;\n",
       "    }\n",
       "</style>\n",
       "<table border=\"1\" class=\"dataframe\">\n",
       "  <thead>\n",
       "    <tr style=\"text-align: right;\">\n",
       "      <th></th>\n",
       "      <th>ID</th>\n",
       "      <th>var3</th>\n",
       "      <th>var15</th>\n",
       "      <th>imp_ent_var16_ult1</th>\n",
       "      <th>imp_op_var39_comer_ult1</th>\n",
       "      <th>imp_op_var39_comer_ult3</th>\n",
       "      <th>imp_op_var40_comer_ult1</th>\n",
       "      <th>imp_op_var40_comer_ult3</th>\n",
       "      <th>imp_op_var40_efect_ult1</th>\n",
       "      <th>imp_op_var40_efect_ult3</th>\n",
       "      <th>...</th>\n",
       "      <th>saldo_medio_var29_ult3</th>\n",
       "      <th>saldo_medio_var33_hace2</th>\n",
       "      <th>saldo_medio_var33_hace3</th>\n",
       "      <th>saldo_medio_var33_ult1</th>\n",
       "      <th>saldo_medio_var33_ult3</th>\n",
       "      <th>saldo_medio_var44_hace2</th>\n",
       "      <th>saldo_medio_var44_hace3</th>\n",
       "      <th>saldo_medio_var44_ult1</th>\n",
       "      <th>saldo_medio_var44_ult3</th>\n",
       "      <th>var38</th>\n",
       "    </tr>\n",
       "  </thead>\n",
       "  <tbody>\n",
       "    <tr>\n",
       "      <th>0</th>\n",
       "      <td>1</td>\n",
       "      <td>2</td>\n",
       "      <td>23</td>\n",
       "      <td>0.0</td>\n",
       "      <td>0.0</td>\n",
       "      <td>0.0</td>\n",
       "      <td>0.0</td>\n",
       "      <td>0.0</td>\n",
       "      <td>0</td>\n",
       "      <td>0</td>\n",
       "      <td>...</td>\n",
       "      <td>0.0</td>\n",
       "      <td>0.0</td>\n",
       "      <td>0.0</td>\n",
       "      <td>0.0</td>\n",
       "      <td>0.0</td>\n",
       "      <td>0.0</td>\n",
       "      <td>0.0</td>\n",
       "      <td>0.0</td>\n",
       "      <td>0.0</td>\n",
       "      <td>39205.170000</td>\n",
       "    </tr>\n",
       "    <tr>\n",
       "      <th>1</th>\n",
       "      <td>3</td>\n",
       "      <td>2</td>\n",
       "      <td>34</td>\n",
       "      <td>0.0</td>\n",
       "      <td>0.0</td>\n",
       "      <td>0.0</td>\n",
       "      <td>0.0</td>\n",
       "      <td>0.0</td>\n",
       "      <td>0</td>\n",
       "      <td>0</td>\n",
       "      <td>...</td>\n",
       "      <td>0.0</td>\n",
       "      <td>0.0</td>\n",
       "      <td>0.0</td>\n",
       "      <td>0.0</td>\n",
       "      <td>0.0</td>\n",
       "      <td>0.0</td>\n",
       "      <td>0.0</td>\n",
       "      <td>0.0</td>\n",
       "      <td>0.0</td>\n",
       "      <td>49278.030000</td>\n",
       "    </tr>\n",
       "    <tr>\n",
       "      <th>2</th>\n",
       "      <td>4</td>\n",
       "      <td>2</td>\n",
       "      <td>23</td>\n",
       "      <td>0.0</td>\n",
       "      <td>0.0</td>\n",
       "      <td>0.0</td>\n",
       "      <td>0.0</td>\n",
       "      <td>0.0</td>\n",
       "      <td>0</td>\n",
       "      <td>0</td>\n",
       "      <td>...</td>\n",
       "      <td>0.0</td>\n",
       "      <td>0.0</td>\n",
       "      <td>0.0</td>\n",
       "      <td>0.0</td>\n",
       "      <td>0.0</td>\n",
       "      <td>0.0</td>\n",
       "      <td>0.0</td>\n",
       "      <td>0.0</td>\n",
       "      <td>0.0</td>\n",
       "      <td>67333.770000</td>\n",
       "    </tr>\n",
       "    <tr>\n",
       "      <th>3</th>\n",
       "      <td>8</td>\n",
       "      <td>2</td>\n",
       "      <td>37</td>\n",
       "      <td>0.0</td>\n",
       "      <td>195.0</td>\n",
       "      <td>195.0</td>\n",
       "      <td>0.0</td>\n",
       "      <td>0.0</td>\n",
       "      <td>0</td>\n",
       "      <td>0</td>\n",
       "      <td>...</td>\n",
       "      <td>0.0</td>\n",
       "      <td>0.0</td>\n",
       "      <td>0.0</td>\n",
       "      <td>0.0</td>\n",
       "      <td>0.0</td>\n",
       "      <td>0.0</td>\n",
       "      <td>0.0</td>\n",
       "      <td>0.0</td>\n",
       "      <td>0.0</td>\n",
       "      <td>64007.970000</td>\n",
       "    </tr>\n",
       "    <tr>\n",
       "      <th>4</th>\n",
       "      <td>10</td>\n",
       "      <td>2</td>\n",
       "      <td>39</td>\n",
       "      <td>0.0</td>\n",
       "      <td>0.0</td>\n",
       "      <td>0.0</td>\n",
       "      <td>0.0</td>\n",
       "      <td>0.0</td>\n",
       "      <td>0</td>\n",
       "      <td>0</td>\n",
       "      <td>...</td>\n",
       "      <td>0.0</td>\n",
       "      <td>0.0</td>\n",
       "      <td>0.0</td>\n",
       "      <td>0.0</td>\n",
       "      <td>0.0</td>\n",
       "      <td>0.0</td>\n",
       "      <td>0.0</td>\n",
       "      <td>0.0</td>\n",
       "      <td>0.0</td>\n",
       "      <td>117310.979016</td>\n",
       "    </tr>\n",
       "  </tbody>\n",
       "</table>\n",
       "<p>5 rows × 370 columns</p>\n",
       "</div>"
      ],
      "text/plain": [
       "   ID  var3  var15  imp_ent_var16_ult1  imp_op_var39_comer_ult1  \\\n",
       "0   1     2     23                 0.0                      0.0   \n",
       "1   3     2     34                 0.0                      0.0   \n",
       "2   4     2     23                 0.0                      0.0   \n",
       "3   8     2     37                 0.0                    195.0   \n",
       "4  10     2     39                 0.0                      0.0   \n",
       "\n",
       "   imp_op_var39_comer_ult3  imp_op_var40_comer_ult1  imp_op_var40_comer_ult3  \\\n",
       "0                      0.0                      0.0                      0.0   \n",
       "1                      0.0                      0.0                      0.0   \n",
       "2                      0.0                      0.0                      0.0   \n",
       "3                    195.0                      0.0                      0.0   \n",
       "4                      0.0                      0.0                      0.0   \n",
       "\n",
       "   imp_op_var40_efect_ult1  imp_op_var40_efect_ult3  ...  \\\n",
       "0                        0                        0  ...   \n",
       "1                        0                        0  ...   \n",
       "2                        0                        0  ...   \n",
       "3                        0                        0  ...   \n",
       "4                        0                        0  ...   \n",
       "\n",
       "   saldo_medio_var29_ult3  saldo_medio_var33_hace2  saldo_medio_var33_hace3  \\\n",
       "0                     0.0                      0.0                      0.0   \n",
       "1                     0.0                      0.0                      0.0   \n",
       "2                     0.0                      0.0                      0.0   \n",
       "3                     0.0                      0.0                      0.0   \n",
       "4                     0.0                      0.0                      0.0   \n",
       "\n",
       "   saldo_medio_var33_ult1  saldo_medio_var33_ult3  saldo_medio_var44_hace2  \\\n",
       "0                     0.0                     0.0                      0.0   \n",
       "1                     0.0                     0.0                      0.0   \n",
       "2                     0.0                     0.0                      0.0   \n",
       "3                     0.0                     0.0                      0.0   \n",
       "4                     0.0                     0.0                      0.0   \n",
       "\n",
       "   saldo_medio_var44_hace3  saldo_medio_var44_ult1  saldo_medio_var44_ult3  \\\n",
       "0                      0.0                     0.0                     0.0   \n",
       "1                      0.0                     0.0                     0.0   \n",
       "2                      0.0                     0.0                     0.0   \n",
       "3                      0.0                     0.0                     0.0   \n",
       "4                      0.0                     0.0                     0.0   \n",
       "\n",
       "           var38  \n",
       "0   39205.170000  \n",
       "1   49278.030000  \n",
       "2   67333.770000  \n",
       "3   64007.970000  \n",
       "4  117310.979016  \n",
       "\n",
       "[5 rows x 370 columns]"
      ]
     },
     "execution_count": 19,
     "metadata": {},
     "output_type": "execute_result"
    }
   ],
   "source": [
    "X.head()"
   ]
  },
  {
   "cell_type": "code",
   "execution_count": 21,
   "id": "21b4e213",
   "metadata": {},
   "outputs": [
    {
     "data": {
      "text/plain": [
       "(7000, 370)"
      ]
     },
     "execution_count": 21,
     "metadata": {},
     "output_type": "execute_result"
    }
   ],
   "source": [
    "from sklearn.model_selection import train_test_split\n",
    "X_train, X_test, y_train, y_test = train_test_split(X,y, test_size=0.3, random_state=0)\n",
    "\n",
    "X_train.shape"
   ]
  },
  {
   "cell_type": "code",
   "execution_count": 23,
   "id": "db49b06a",
   "metadata": {},
   "outputs": [],
   "source": [
    "from sklearn.feature_selection import VarianceThreshold\n",
    "\n",
    "var_threshold = VarianceThreshold(threshold=0.0)"
   ]
  },
  {
   "cell_type": "code",
   "execution_count": 24,
   "id": "81d1292c",
   "metadata": {},
   "outputs": [
    {
     "data": {
      "text/plain": [
       "VarianceThreshold()"
      ]
     },
     "execution_count": 24,
     "metadata": {},
     "output_type": "execute_result"
    }
   ],
   "source": [
    "var_threshold.fit(X_train)"
   ]
  },
  {
   "cell_type": "code",
   "execution_count": 25,
   "id": "5c80712c",
   "metadata": {},
   "outputs": [
    {
     "data": {
      "text/plain": [
       "array([ True,  True,  True,  True,  True,  True,  True,  True,  True,\n",
       "        True,  True,  True,  True,  True,  True,  True,  True,  True,\n",
       "        True,  True,  True,  True, False, False,  True,  True,  True,\n",
       "        True,  True,  True,  True,  True,  True,  True,  True,  True,\n",
       "        True, False, False,  True,  True,  True,  True,  True, False,\n",
       "       False,  True,  True,  True,  True,  True,  True,  True,  True,\n",
       "        True,  True,  True, False, False, False, False,  True,  True,\n",
       "        True,  True,  True,  True,  True,  True,  True,  True,  True,\n",
       "       False, False,  True,  True,  True,  True,  True,  True,  True,\n",
       "       False,  True,  True,  True, False, False,  True,  True,  True,\n",
       "        True,  True,  True,  True,  True,  True,  True,  True,  True,\n",
       "        True,  True,  True,  True, False, False,  True,  True,  True,\n",
       "        True,  True, False, False,  True,  True,  True,  True,  True,\n",
       "        True,  True,  True,  True,  True,  True,  True,  True,  True,\n",
       "        True,  True,  True,  True,  True,  True, False, False, False,\n",
       "       False,  True,  True,  True,  True,  True,  True,  True,  True,\n",
       "        True,  True, False, False,  True,  True,  True,  True,  True,\n",
       "        True,  True,  True, False,  True,  True,  True,  True,  True,\n",
       "       False, False,  True,  True,  True,  True,  True,  True,  True,\n",
       "       False,  True,  True,  True, False,  True,  True,  True,  True,\n",
       "       False, False,  True,  True,  True,  True,  True, False,  True,\n",
       "        True, False,  True,  True, False,  True, False, False,  True,\n",
       "        True,  True,  True,  True, False, False,  True, False,  True,\n",
       "       False,  True,  True,  True,  True,  True,  True, False, False,\n",
       "        True, False,  True, False,  True, False, False, False, False,\n",
       "        True,  True,  True,  True,  True,  True, False,  True,  True,\n",
       "        True, False,  True, False, False, False, False,  True,  True,\n",
       "       False,  True, False, False, False,  True, False, False, False,\n",
       "        True, False,  True,  True,  True,  True,  True,  True,  True,\n",
       "        True, False, False,  True,  True,  True,  True,  True,  True,\n",
       "       False,  True,  True,  True,  True,  True,  True,  True,  True,\n",
       "        True,  True,  True,  True,  True,  True,  True, False,  True,\n",
       "        True,  True,  True,  True,  True,  True,  True,  True,  True,\n",
       "        True,  True,  True,  True,  True,  True,  True, False,  True,\n",
       "       False, False, False, False,  True,  True,  True,  True, False,\n",
       "        True, False, False, False,  True, False, False, False,  True,\n",
       "        True,  True,  True,  True, False,  True,  True,  True,  True,\n",
       "        True,  True,  True,  True,  True,  True,  True,  True,  True,\n",
       "        True,  True,  True,  True,  True,  True,  True, False, False,\n",
       "       False, False,  True,  True,  True,  True, False, False,  True,\n",
       "        True,  True,  True,  True,  True,  True,  True,  True,  True,\n",
       "        True])"
      ]
     },
     "execution_count": 25,
     "metadata": {},
     "output_type": "execute_result"
    }
   ],
   "source": [
    "var_threshold.get_support()"
   ]
  },
  {
   "cell_type": "code",
   "execution_count": 60,
   "id": "05f52b60",
   "metadata": {},
   "outputs": [
    {
     "name": "stdout",
     "output_type": "stream",
     "text": [
      "370\n"
     ]
    }
   ],
   "source": [
    "print(len(var_threshold.get_support()))"
   ]
  },
  {
   "cell_type": "code",
   "execution_count": 63,
   "id": "37461dfd",
   "metadata": {},
   "outputs": [
    {
     "name": "stdout",
     "output_type": "stream",
     "text": [
      "Total sum of features with non-zero variance is 284\n"
     ]
    }
   ],
   "source": [
    "print(\"Total sum of features with non-zero variance is {}\".format(sum(var_threshold.get_support())))"
   ]
  },
  {
   "cell_type": "code",
   "execution_count": 27,
   "id": "e3657264",
   "metadata": {},
   "outputs": [],
   "source": [
    "constant_columns = [column for column in X_train.columns if column not in X_train.columns[var_threshold.get_support()]]"
   ]
  },
  {
   "cell_type": "code",
   "execution_count": 59,
   "id": "436cef1e",
   "metadata": {},
   "outputs": [
    {
     "name": "stdout",
     "output_type": "stream",
     "text": [
      "86\n"
     ]
    }
   ],
   "source": [
    "print(len(constant_columns))"
   ]
  },
  {
   "cell_type": "code",
   "execution_count": 28,
   "id": "8a5e24fd",
   "metadata": {},
   "outputs": [
    {
     "name": "stdout",
     "output_type": "stream",
     "text": [
      "ind_var2_0\n",
      "ind_var2\n",
      "ind_var13_medio_0\n",
      "ind_var13_medio\n",
      "ind_var18_0\n",
      "ind_var18\n",
      "ind_var27_0\n",
      "ind_var28_0\n",
      "ind_var28\n",
      "ind_var27\n",
      "ind_var34_0\n",
      "ind_var34\n",
      "ind_var41\n",
      "ind_var46_0\n",
      "ind_var46\n",
      "num_var13_medio_0\n",
      "num_var13_medio\n",
      "num_var18_0\n",
      "num_var18\n",
      "num_var27_0\n",
      "num_var28_0\n",
      "num_var28\n",
      "num_var27\n",
      "num_var34_0\n",
      "num_var34\n",
      "num_var41\n",
      "num_var46_0\n",
      "num_var46\n",
      "saldo_var13_medio\n",
      "saldo_var18\n",
      "saldo_var28\n",
      "saldo_var27\n",
      "saldo_var34\n",
      "saldo_var41\n",
      "saldo_var46\n",
      "delta_imp_amort_var18_1y3\n",
      "delta_imp_amort_var34_1y3\n",
      "delta_imp_reemb_var17_1y3\n",
      "delta_imp_reemb_var33_1y3\n",
      "delta_imp_trasp_var17_out_1y3\n",
      "delta_imp_trasp_var33_out_1y3\n",
      "delta_num_reemb_var17_1y3\n",
      "delta_num_reemb_var33_1y3\n",
      "delta_num_trasp_var17_out_1y3\n",
      "delta_num_trasp_var33_out_1y3\n",
      "imp_amort_var18_hace3\n",
      "imp_amort_var18_ult1\n",
      "imp_amort_var34_hace3\n",
      "imp_amort_var34_ult1\n",
      "imp_var7_emit_ult1\n",
      "imp_reemb_var13_hace3\n",
      "imp_reemb_var17_hace3\n",
      "imp_reemb_var17_ult1\n",
      "imp_reemb_var33_hace3\n",
      "imp_reemb_var33_ult1\n",
      "imp_trasp_var17_in_hace3\n",
      "imp_trasp_var17_out_hace3\n",
      "imp_trasp_var17_out_ult1\n",
      "imp_trasp_var33_in_hace3\n",
      "imp_trasp_var33_out_hace3\n",
      "imp_trasp_var33_out_ult1\n",
      "imp_venta_var44_hace3\n",
      "ind_var7_emit_ult1\n",
      "num_var2_0_ult1\n",
      "num_var2_ult1\n",
      "num_var7_emit_ult1\n",
      "num_meses_var13_medio_ult3\n",
      "num_reemb_var13_hace3\n",
      "num_reemb_var17_hace3\n",
      "num_reemb_var17_ult1\n",
      "num_reemb_var33_hace3\n",
      "num_reemb_var33_ult1\n",
      "num_trasp_var17_in_hace3\n",
      "num_trasp_var17_out_hace3\n",
      "num_trasp_var17_out_ult1\n",
      "num_trasp_var33_in_hace3\n",
      "num_trasp_var33_out_hace3\n",
      "num_trasp_var33_out_ult1\n",
      "num_venta_var44_hace3\n",
      "saldo_var2_ult1\n",
      "saldo_medio_var13_medio_hace2\n",
      "saldo_medio_var13_medio_hace3\n",
      "saldo_medio_var13_medio_ult1\n",
      "saldo_medio_var13_medio_ult3\n",
      "saldo_medio_var29_hace2\n",
      "saldo_medio_var29_hace3\n"
     ]
    }
   ],
   "source": [
    "for feature in constant_columns:\n",
    "    print(feature)"
   ]
  },
  {
   "cell_type": "code",
   "execution_count": 29,
   "id": "8a07baca",
   "metadata": {},
   "outputs": [],
   "source": [
    "X_train.drop(constant_columns, axis=1, inplace=True)"
   ]
  },
  {
   "cell_type": "code",
   "execution_count": 32,
   "id": "a7786291",
   "metadata": {},
   "outputs": [
    {
     "data": {
      "text/plain": [
       "Index(['ID', 'var3', 'var15', 'imp_ent_var16_ult1', 'imp_op_var39_comer_ult1',\n",
       "       'imp_op_var39_comer_ult3', 'imp_op_var40_comer_ult1',\n",
       "       'imp_op_var40_comer_ult3', 'imp_op_var40_efect_ult1',\n",
       "       'imp_op_var40_efect_ult3',\n",
       "       ...\n",
       "       'saldo_medio_var29_ult3', 'saldo_medio_var33_hace2',\n",
       "       'saldo_medio_var33_hace3', 'saldo_medio_var33_ult1',\n",
       "       'saldo_medio_var33_ult3', 'saldo_medio_var44_hace2',\n",
       "       'saldo_medio_var44_hace3', 'saldo_medio_var44_ult1',\n",
       "       'saldo_medio_var44_ult3', 'var38'],\n",
       "      dtype='object', length=284)"
      ]
     },
     "execution_count": 32,
     "metadata": {},
     "output_type": "execute_result"
    }
   ],
   "source": [
    "X_train.columns"
   ]
  },
  {
   "cell_type": "code",
   "execution_count": 35,
   "id": "12b0f943",
   "metadata": {},
   "outputs": [],
   "source": [
    "from sklearn.feature_selection import SelectKBest\n",
    "from sklearn.feature_selection import chi2"
   ]
  },
  {
   "cell_type": "code",
   "execution_count": 44,
   "id": "add67376",
   "metadata": {},
   "outputs": [
    {
     "data": {
      "text/plain": [
       "(10000, 370)"
      ]
     },
     "execution_count": 44,
     "metadata": {},
     "output_type": "execute_result"
    }
   ],
   "source": [
    "X.shape"
   ]
  },
  {
   "cell_type": "code",
   "execution_count": 37,
   "id": "925ee5ca",
   "metadata": {},
   "outputs": [],
   "source": [
    "ordered_rank_feature = SelectKBest(score_func=chi2, k=\"all\")\n",
    "\n",
    "ordered_feature = ordered_rank_feature.fit(abs(X),y)"
   ]
  },
  {
   "cell_type": "code",
   "execution_count": 38,
   "id": "3bf89b3c",
   "metadata": {},
   "outputs": [],
   "source": [
    "df_scores = pd.DataFrame(ordered_feature.scores_, columns=[\"Scores\"])\n",
    "feature_names = pd.DataFrame(X.columns)"
   ]
  },
  {
   "cell_type": "code",
   "execution_count": 39,
   "id": "81a53857",
   "metadata": {},
   "outputs": [],
   "source": [
    "feature_rank = pd.concat([feature_names, df_scores], axis=1)"
   ]
  },
  {
   "cell_type": "code",
   "execution_count": 41,
   "id": "f2dcde64",
   "metadata": {},
   "outputs": [
    {
     "data": {
      "text/html": [
       "<div>\n",
       "<style scoped>\n",
       "    .dataframe tbody tr th:only-of-type {\n",
       "        vertical-align: middle;\n",
       "    }\n",
       "\n",
       "    .dataframe tbody tr th {\n",
       "        vertical-align: top;\n",
       "    }\n",
       "\n",
       "    .dataframe thead th {\n",
       "        text-align: right;\n",
       "    }\n",
       "</style>\n",
       "<table border=\"1\" class=\"dataframe\">\n",
       "  <thead>\n",
       "    <tr style=\"text-align: right;\">\n",
       "      <th></th>\n",
       "      <th>Features</th>\n",
       "      <th>Scores</th>\n",
       "    </tr>\n",
       "  </thead>\n",
       "  <tbody>\n",
       "    <tr>\n",
       "      <th>0</th>\n",
       "      <td>ID</td>\n",
       "      <td>6.172923e+03</td>\n",
       "    </tr>\n",
       "    <tr>\n",
       "      <th>1</th>\n",
       "      <td>var3</td>\n",
       "      <td>2.820339e+05</td>\n",
       "    </tr>\n",
       "    <tr>\n",
       "      <th>2</th>\n",
       "      <td>var15</td>\n",
       "      <td>6.167289e+02</td>\n",
       "    </tr>\n",
       "    <tr>\n",
       "      <th>3</th>\n",
       "      <td>imp_ent_var16_ult1</td>\n",
       "      <td>2.445388e+01</td>\n",
       "    </tr>\n",
       "    <tr>\n",
       "      <th>4</th>\n",
       "      <td>imp_op_var39_comer_ult1</td>\n",
       "      <td>1.086859e+04</td>\n",
       "    </tr>\n",
       "    <tr>\n",
       "      <th>...</th>\n",
       "      <td>...</td>\n",
       "      <td>...</td>\n",
       "    </tr>\n",
       "    <tr>\n",
       "      <th>365</th>\n",
       "      <td>saldo_medio_var44_hace2</td>\n",
       "      <td>6.185752e+03</td>\n",
       "    </tr>\n",
       "    <tr>\n",
       "      <th>366</th>\n",
       "      <td>saldo_medio_var44_hace3</td>\n",
       "      <td>1.095939e+03</td>\n",
       "    </tr>\n",
       "    <tr>\n",
       "      <th>367</th>\n",
       "      <td>saldo_medio_var44_ult1</td>\n",
       "      <td>1.099072e+04</td>\n",
       "    </tr>\n",
       "    <tr>\n",
       "      <th>368</th>\n",
       "      <td>saldo_medio_var44_ult3</td>\n",
       "      <td>8.076988e+03</td>\n",
       "    </tr>\n",
       "    <tr>\n",
       "      <th>369</th>\n",
       "      <td>var38</td>\n",
       "      <td>1.657107e+06</td>\n",
       "    </tr>\n",
       "  </tbody>\n",
       "</table>\n",
       "<p>370 rows × 2 columns</p>\n",
       "</div>"
      ],
      "text/plain": [
       "                    Features        Scores\n",
       "0                         ID  6.172923e+03\n",
       "1                       var3  2.820339e+05\n",
       "2                      var15  6.167289e+02\n",
       "3         imp_ent_var16_ult1  2.445388e+01\n",
       "4    imp_op_var39_comer_ult1  1.086859e+04\n",
       "..                       ...           ...\n",
       "365  saldo_medio_var44_hace2  6.185752e+03\n",
       "366  saldo_medio_var44_hace3  1.095939e+03\n",
       "367   saldo_medio_var44_ult1  1.099072e+04\n",
       "368   saldo_medio_var44_ult3  8.076988e+03\n",
       "369                    var38  1.657107e+06\n",
       "\n",
       "[370 rows x 2 columns]"
      ]
     },
     "execution_count": 41,
     "metadata": {},
     "output_type": "execute_result"
    }
   ],
   "source": [
    "feature_rank.columns = [\"Features\", \"Scores\"]\n",
    "\n",
    "feature_rank"
   ]
  },
  {
   "cell_type": "code",
   "execution_count": 43,
   "id": "32ae7e94",
   "metadata": {},
   "outputs": [
    {
     "data": {
      "text/html": [
       "<div>\n",
       "<style scoped>\n",
       "    .dataframe tbody tr th:only-of-type {\n",
       "        vertical-align: middle;\n",
       "    }\n",
       "\n",
       "    .dataframe tbody tr th {\n",
       "        vertical-align: top;\n",
       "    }\n",
       "\n",
       "    .dataframe thead th {\n",
       "        text-align: right;\n",
       "    }\n",
       "</style>\n",
       "<table border=\"1\" class=\"dataframe\">\n",
       "  <thead>\n",
       "    <tr style=\"text-align: right;\">\n",
       "      <th></th>\n",
       "      <th>Features</th>\n",
       "      <th>Scores</th>\n",
       "    </tr>\n",
       "  </thead>\n",
       "  <tbody>\n",
       "    <tr>\n",
       "      <th>200</th>\n",
       "      <td>delta_imp_compra_var44_1y3</td>\n",
       "      <td>4.440283e+09</td>\n",
       "    </tr>\n",
       "    <tr>\n",
       "      <th>212</th>\n",
       "      <td>delta_num_compra_var44_1y3</td>\n",
       "      <td>4.440283e+09</td>\n",
       "    </tr>\n",
       "    <tr>\n",
       "      <th>197</th>\n",
       "      <td>delta_imp_aport_var13_1y3</td>\n",
       "      <td>3.316039e+09</td>\n",
       "    </tr>\n",
       "    <tr>\n",
       "      <th>209</th>\n",
       "      <td>delta_num_aport_var13_1y3</td>\n",
       "      <td>3.316039e+09</td>\n",
       "    </tr>\n",
       "    <tr>\n",
       "      <th>208</th>\n",
       "      <td>delta_imp_venta_var44_1y3</td>\n",
       "      <td>2.825635e+09</td>\n",
       "    </tr>\n",
       "    <tr>\n",
       "      <th>...</th>\n",
       "      <td>...</td>\n",
       "      <td>...</td>\n",
       "    </tr>\n",
       "    <tr>\n",
       "      <th>131</th>\n",
       "      <td>num_op_var39_ult3</td>\n",
       "      <td>6.947895e+02</td>\n",
       "    </tr>\n",
       "    <tr>\n",
       "      <th>2</th>\n",
       "      <td>var15</td>\n",
       "      <td>6.167289e+02</td>\n",
       "    </tr>\n",
       "    <tr>\n",
       "      <th>188</th>\n",
       "      <td>saldo_var37</td>\n",
       "      <td>5.851730e+02</td>\n",
       "    </tr>\n",
       "    <tr>\n",
       "      <th>244</th>\n",
       "      <td>imp_trasp_var17_in_ult1</td>\n",
       "      <td>5.795078e+02</td>\n",
       "    </tr>\n",
       "    <tr>\n",
       "      <th>362</th>\n",
       "      <td>saldo_medio_var33_hace3</td>\n",
       "      <td>5.128188e+02</td>\n",
       "    </tr>\n",
       "  </tbody>\n",
       "</table>\n",
       "<p>100 rows × 2 columns</p>\n",
       "</div>"
      ],
      "text/plain": [
       "                       Features        Scores\n",
       "200  delta_imp_compra_var44_1y3  4.440283e+09\n",
       "212  delta_num_compra_var44_1y3  4.440283e+09\n",
       "197   delta_imp_aport_var13_1y3  3.316039e+09\n",
       "209   delta_num_aport_var13_1y3  3.316039e+09\n",
       "208   delta_imp_venta_var44_1y3  2.825635e+09\n",
       "..                          ...           ...\n",
       "131           num_op_var39_ult3  6.947895e+02\n",
       "2                         var15  6.167289e+02\n",
       "188                 saldo_var37  5.851730e+02\n",
       "244     imp_trasp_var17_in_ult1  5.795078e+02\n",
       "362     saldo_medio_var33_hace3  5.128188e+02\n",
       "\n",
       "[100 rows x 2 columns]"
      ]
     },
     "execution_count": 43,
     "metadata": {},
     "output_type": "execute_result"
    }
   ],
   "source": [
    "feature_rank.nlargest(100, \"Scores\")"
   ]
  },
  {
   "cell_type": "markdown",
   "id": "198967f8",
   "metadata": {},
   "source": [
    "#### Applying feature importance"
   ]
  },
  {
   "cell_type": "code",
   "execution_count": 47,
   "id": "59e6bec4",
   "metadata": {},
   "outputs": [],
   "source": [
    "from sklearn.ensemble import ExtraTreesClassifier"
   ]
  },
  {
   "cell_type": "code",
   "execution_count": 48,
   "id": "9645e78a",
   "metadata": {},
   "outputs": [
    {
     "data": {
      "text/plain": [
       "ExtraTreesClassifier()"
      ]
     },
     "execution_count": 48,
     "metadata": {},
     "output_type": "execute_result"
    }
   ],
   "source": [
    "model = ExtraTreesClassifier()\n",
    "\n",
    "model.fit(X,y)"
   ]
  },
  {
   "cell_type": "code",
   "execution_count": 50,
   "id": "4f1a3182",
   "metadata": {},
   "outputs": [
    {
     "data": {
      "text/plain": [
       "array([1.89033040e-01, 1.04153165e-03, 1.78085459e-01, 3.63598402e-03,\n",
       "       3.20460775e-03, 3.32928563e-03, 1.11516485e-04, 1.58506864e-04,\n",
       "       4.71604670e-04, 6.14073821e-04, 2.17410505e-04, 3.16986292e-03,\n",
       "       3.33635748e-03, 4.11863251e-03, 5.26594720e-03, 4.54315480e-03,\n",
       "       4.00937542e-03, 4.90668469e-03, 4.36742043e-03, 7.83981615e-06,\n",
       "       1.46900874e-04, 1.88348353e-04, 0.00000000e+00, 0.00000000e+00,\n",
       "       9.27172091e-04, 2.98928242e-03, 4.30932248e-06, 0.00000000e+00,\n",
       "       9.87600657e-04, 5.14457406e-04, 4.80088364e-04, 2.69912896e-04,\n",
       "       4.06499890e-04, 2.61536319e-04, 1.58868872e-04, 4.77371402e-05,\n",
       "       5.49323202e-05, 0.00000000e+00, 0.00000000e+00, 2.45561340e-04,\n",
       "       2.55399620e-04, 1.52295334e-04, 1.27969014e-05, 6.08539909e-07,\n",
       "       0.00000000e+00, 0.00000000e+00, 2.26229635e-04, 2.48803992e-05,\n",
       "       2.12987820e-06, 2.84107507e-04, 2.16842986e-04, 5.80489985e-04,\n",
       "       1.81346819e-04, 4.59168898e-04, 3.00371769e-04, 3.62819727e-04,\n",
       "       3.37339240e-04, 0.00000000e+00, 0.00000000e+00, 0.00000000e+00,\n",
       "       0.00000000e+00, 0.00000000e+00, 0.00000000e+00, 2.46269953e-04,\n",
       "       4.18556852e-03, 4.32383829e-05, 3.16221594e-05, 4.24866887e-05,\n",
       "       1.96969998e-06, 1.81877155e-06, 4.46892701e-06, 5.50057736e-07,\n",
       "       0.00000000e+00, 0.00000000e+00, 1.25319512e-03, 8.34668505e-04,\n",
       "       7.68757481e-04, 1.10778393e-03, 2.27377482e-04, 2.59955423e-04,\n",
       "       1.35629847e-03, 0.00000000e+00, 3.46379063e-04, 1.55428651e-06,\n",
       "       5.29631211e-07, 0.00000000e+00, 0.00000000e+00, 1.38629026e-04,\n",
       "       2.93262205e-04, 2.49950183e-03, 1.31187976e-03, 2.36183624e-03,\n",
       "       0.00000000e+00, 4.90421211e-06, 1.22964075e-03, 5.02547984e-04,\n",
       "       4.16948753e-04, 1.88598110e-04, 2.82895987e-04, 1.33410321e-04,\n",
       "       1.26750334e-04, 2.97136661e-05, 1.91435537e-05, 0.00000000e+00,\n",
       "       0.00000000e+00, 1.28624322e-04, 3.64943631e-04, 6.83907414e-05,\n",
       "       2.82186385e-05, 5.55331121e-06, 0.00000000e+00, 0.00000000e+00,\n",
       "       3.71935058e-05, 1.11381094e-05, 1.75754394e-04, 1.84074442e-04,\n",
       "       6.06138231e-04, 4.95313312e-04, 5.81884294e-04, 5.50681052e-04,\n",
       "       4.84212569e-05, 0.00000000e+00, 2.26940565e-04, 2.39942286e-04,\n",
       "       3.81988223e-03, 9.94667991e-04, 3.42743393e-03, 3.81007525e-03,\n",
       "       3.72218598e-03, 9.45684931e-04, 3.54322008e-03, 4.06098792e-03,\n",
       "       0.00000000e+00, 0.00000000e+00, 0.00000000e+00, 0.00000000e+00,\n",
       "       0.00000000e+00, 0.00000000e+00, 1.17657929e-03, 1.68700845e-03,\n",
       "       2.75050411e-05, 7.31769255e-06, 1.21710018e-06, 3.22084830e-07,\n",
       "       2.68756369e-05, 1.99921358e-06, 0.00000000e+00, 0.00000000e+00,\n",
       "       2.47978326e-03, 1.17331717e-03, 1.00856680e-03, 1.12451585e-03,\n",
       "       1.96530375e-03, 1.26940006e-04, 2.80027107e-04, 2.22183329e-03,\n",
       "       0.00000000e+00, 2.01552546e-04, 1.35831802e-03, 1.73946293e-03,\n",
       "       6.49675783e-06, 1.91426798e-05, 0.00000000e+00, 0.00000000e+00,\n",
       "       3.55836954e-04, 9.07347835e-03, 0.00000000e+00, 7.72273959e-04,\n",
       "       4.66343931e-04, 1.19960186e-04, 2.42747440e-05, 0.00000000e+00,\n",
       "       9.94207245e-05, 5.77693358e-05, 5.47471323e-07, 0.00000000e+00,\n",
       "       0.00000000e+00, 2.78853568e-04, 7.51972928e-04, 6.98293939e-04,\n",
       "       0.00000000e+00, 0.00000000e+00, 0.00000000e+00, 1.03147140e-02,\n",
       "       5.56131528e-06, 5.57437203e-06, 3.69584097e-07, 0.00000000e+00,\n",
       "       1.34847202e-03, 3.36825681e-04, 0.00000000e+00, 9.89681742e-03,\n",
       "       6.62305962e-06, 0.00000000e+00, 8.28475493e-03, 0.00000000e+00,\n",
       "       0.00000000e+00, 9.08769728e-05, 3.14808617e-07, 0.00000000e+00,\n",
       "       2.71962886e-06, 0.00000000e+00, 0.00000000e+00, 0.00000000e+00,\n",
       "       7.65114149e-08, 0.00000000e+00, 0.00000000e+00, 0.00000000e+00,\n",
       "       1.72926986e-07, 3.82971264e-05, 2.88949463e-07, 0.00000000e+00,\n",
       "       2.49930180e-07, 2.92070074e-07, 0.00000000e+00, 0.00000000e+00,\n",
       "       3.75984386e-07, 0.00000000e+00, 0.00000000e+00, 0.00000000e+00,\n",
       "       7.09859313e-07, 0.00000000e+00, 0.00000000e+00, 0.00000000e+00,\n",
       "       0.00000000e+00, 1.60054939e-05, 1.49364447e-04, 4.52322722e-06,\n",
       "       1.36196136e-06, 3.26458998e-07, 0.00000000e+00, 0.00000000e+00,\n",
       "       1.32718209e-03, 1.81060397e-05, 3.65160067e-07, 0.00000000e+00,\n",
       "       7.57645904e-08, 0.00000000e+00, 0.00000000e+00, 0.00000000e+00,\n",
       "       0.00000000e+00, 3.10396661e-03, 3.23352335e-03, 0.00000000e+00,\n",
       "       0.00000000e+00, 0.00000000e+00, 0.00000000e+00, 0.00000000e+00,\n",
       "       0.00000000e+00, 0.00000000e+00, 0.00000000e+00, 0.00000000e+00,\n",
       "       0.00000000e+00, 0.00000000e+00, 1.85149498e-03, 5.63886122e-04,\n",
       "       1.12136258e-03, 1.11724279e-03, 9.21236251e-04, 2.33896358e-03,\n",
       "       2.66359543e-03, 1.95487532e-04, 0.00000000e+00, 0.00000000e+00,\n",
       "       3.73513183e-05, 7.86830914e-05, 5.37320732e-06, 1.83370490e-05,\n",
       "       0.00000000e+00, 0.00000000e+00, 0.00000000e+00, 1.15301574e-03,\n",
       "       1.66295798e-07, 6.29384787e-09, 3.87440487e-03, 1.10704402e-02,\n",
       "       1.23376723e-02, 8.07976731e-03, 1.52529821e-02, 6.51920037e-03,\n",
       "       1.26213807e-02, 9.10188173e-03, 8.74448388e-04, 4.28374696e-04,\n",
       "       1.99617829e-04, 1.11650077e-05, 0.00000000e+00, 2.40757379e-07,\n",
       "       0.00000000e+00, 0.00000000e+00, 8.43268408e-03, 2.91816237e-06,\n",
       "       3.26872500e-03, 3.13389565e-03, 1.15509890e-04, 1.38520460e-04,\n",
       "       6.92335916e-04, 6.57369213e-04, 3.34457832e-03, 3.30319449e-03,\n",
       "       3.13718189e-03, 3.88589755e-03, 3.14815558e-03, 3.56799984e-03,\n",
       "       0.00000000e+00, 1.39459856e-06, 0.00000000e+00, 0.00000000e+00,\n",
       "       0.00000000e+00, 0.00000000e+00, 8.02480519e-06, 3.15281212e-03,\n",
       "       2.56672753e-03, 9.59119205e-04, 0.00000000e+00, 9.09399835e-09,\n",
       "       0.00000000e+00, 0.00000000e+00, 0.00000000e+00, 0.00000000e+00,\n",
       "       0.00000000e+00, 0.00000000e+00, 0.00000000e+00, 1.58612544e-06,\n",
       "       1.84081190e-02, 2.32118482e-02, 1.11746098e-02, 2.40504022e-02,\n",
       "       0.00000000e+00, 1.05198734e-02, 2.65537576e-02, 9.83691200e-03,\n",
       "       2.65743527e-02, 8.71525112e-04, 3.59141144e-04, 6.98101167e-04,\n",
       "       6.18988125e-04, 4.03711840e-04, 8.94438973e-05, 4.12085249e-04,\n",
       "       4.77266151e-04, 2.29814136e-05, 5.59625254e-06, 1.27850106e-04,\n",
       "       1.15596132e-04, 8.31972414e-06, 7.09027098e-07, 3.64867170e-06,\n",
       "       4.76647106e-06, 0.00000000e+00, 0.00000000e+00, 0.00000000e+00,\n",
       "       0.00000000e+00, 1.27780321e-06, 4.80505572e-07, 2.81602630e-07,\n",
       "       5.41386179e-08, 0.00000000e+00, 0.00000000e+00, 9.28037915e-07,\n",
       "       0.00000000e+00, 0.00000000e+00, 0.00000000e+00, 2.85531790e-06,\n",
       "       4.77546116e-07, 9.73323921e-07, 4.46892701e-06, 2.15055098e-06,\n",
       "       1.23134393e-06, 1.68916963e-01])"
      ]
     },
     "execution_count": 50,
     "metadata": {},
     "output_type": "execute_result"
    }
   ],
   "source": [
    "model.feature_importances_"
   ]
  },
  {
   "cell_type": "code",
   "execution_count": 58,
   "id": "c6c6021a",
   "metadata": {},
   "outputs": [
    {
     "data": {
      "text/plain": [
       "<AxesSubplot:>"
      ]
     },
     "execution_count": 58,
     "metadata": {},
     "output_type": "execute_result"
    },
    {
     "data": {
      "image/png": "[encoded data removed]",
      "text/plain": [
       "<Figure size 648x1152 with 1 Axes>"
      ]
     },
     "metadata": {
      "needs_background": "light"
     },
     "output_type": "display_data"
    }
   ],
   "source": [
    "import matplotlib.pyplot as plt\n",
    "ranked_features = pd.Series(model.feature_importances_, index = X.columns)\n",
    "\n",
    "plt.figure(figsize = (9,16))\n",
    "\n",
    "ranked_features.nlargest(100).plot(kind=\"barh\")"
   ]
  },
  {
   "cell_type": "code",
   "execution_count": null,
   "id": "19e1e908",
   "metadata": {},
   "outputs": [],
   "source": []
  }
 ],
 "metadata": {
  "kernelspec": {
   "display_name": "Python 3 (ipykernel)",
   "language": "python",
   "name": "python3"
  },
  "language_info": {
   "codemirror_mode": {
    "name": "ipython",
    "version": 3
   },
   "file_extension": ".py",
   "mimetype": "text/x-python",
   "name": "python",
   "nbconvert_exporter": "python",
   "pygments_lexer": "ipython3",
   "version": "3.9.12"
  }
 },
 "nbformat": 4,
 "nbformat_minor": 5
}
